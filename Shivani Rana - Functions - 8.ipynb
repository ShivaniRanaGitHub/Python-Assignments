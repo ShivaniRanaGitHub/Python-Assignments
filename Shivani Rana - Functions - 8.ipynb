{
 "cells": [
  {
   "cell_type": "code",
   "execution_count": 4,
   "metadata": {},
   "outputs": [
    {
     "name": "stdout",
     "output_type": "stream",
     "text": [
      "String:  Coronavirus Disease Is An Infectious Disease\n",
      "Number of Upper Case Char:  6\n",
      "Number of Lower Case Char: 33\n"
     ]
    }
   ],
   "source": [
    "# Functions Assignment\n",
    "# Q1 Write a Python function that accepts a string\n",
    "# and calculates the number of uppercase letters and lowercase letters.\n",
    "\n",
    "def ultest(s):\n",
    "    d={\"Upper_Case\":0, \"Lower_Case\":0}\n",
    "    for c in s:\n",
    "        if c.isupper():\n",
    "            d[\"Upper_Case\"]+=1\n",
    "        elif c.islower():\n",
    "            d[\"Lower_Case\"]+=1\n",
    "        else:\n",
    "            pass\n",
    "    print(\"String: \", s)\n",
    "    print(\"Number of Upper Case Char: \", d[\"Upper_Case\"])\n",
    "    print(\"Number of Lower Case Char:\", d[\"Lower_Case\"])\n",
    "    \n",
    "ultest('Coronavirus Disease Is An Infectious Disease')"
   ]
  },
  {
   "cell_type": "code",
   "execution_count": 5,
   "metadata": {},
   "outputs": [
    {
     "name": "stdout",
     "output_type": "stream",
     "text": [
      "[1, 4, 9, 16, 25, 36, 49, 64, 81, 100, 121, 144, 169, 196, 225, 256, 289, 324, 361, 400, 441, 484, 529, 576, 625, 676, 729, 784, 841]\n"
     ]
    }
   ],
   "source": [
    "# Q2 . Write a Python function to create and print a list where\n",
    "# the values are squares of numbers between 1 and 30 (both included).\n",
    "def Square():\n",
    "    l = list() \n",
    "    for i in range(1,30):\n",
    "        l.append(i**2)\n",
    "    print(l)\n",
    "Square()"
   ]
  },
  {
   "cell_type": "code",
   "execution_count": 6,
   "metadata": {},
   "outputs": [
    {
     "name": "stdout",
     "output_type": "stream",
     "text": [
      "Count of numbers in a list which are greater than 30:  4\n"
     ]
    }
   ],
   "source": [
    "# Q3. Create a function that counts the number of elements\n",
    "# within a list that are greater than 30.\n",
    "list1 = [31, 80, 10, 5, 42, 38] \n",
    "count = sum(map(lambda x : x>30, list1))\n",
    " \n",
    "print('Count of numbers in a list which are greater than 30: ', count)\n",
    "\n"
   ]
  },
  {
   "cell_type": "code",
   "execution_count": 7,
   "metadata": {},
   "outputs": [
    {
     "name": "stdout",
     "output_type": "stream",
     "text": [
      "[1, 2, 3, 4, 5]\n"
     ]
    }
   ],
   "source": [
    "# Q4. Write a Python function that takes a list and \n",
    "# returns a new list with unique elements of the first list.\n",
    "def unique_list(l):\n",
    "  x = []\n",
    "  for a in l:\n",
    "    if a not in x:\n",
    "      x.append(a)\n",
    "  return x\n",
    "\n",
    "print(unique_list([1,2,3,3,3,3,4,5])) "
   ]
  },
  {
   "cell_type": "code",
   "execution_count": 8,
   "metadata": {},
   "outputs": [
    {
     "name": "stdout",
     "output_type": "stream",
     "text": [
      "Employee abc salary is: 9000\n",
      "Employee xyz salary is: 9000\n"
     ]
    }
   ],
   "source": [
    "# Q5. Create a function showEmployee() in such a way that it\n",
    "# should accept employee name, and it’s salary and display\n",
    "# both, and if the salary is missing in function call it should\n",
    "# show it as 9000\n",
    "def showEmployee(name, salary=9000):\n",
    "    print(\"Employee\", name, \"salary is:\", salary)\n",
    "\n",
    "showEmployee(\"abc\", 9000)\n",
    "showEmployee(\"xyz\")"
   ]
  },
  {
   "cell_type": "code",
   "execution_count": 12,
   "metadata": {},
   "outputs": [
    {
     "name": "stdout",
     "output_type": "stream",
     "text": [
      "Original arrays:\n",
      "[1, 2, 3, 5, 7, 8, 9, 10]\n",
      "\n",
      "Number of even numbers in the above array:  3\n",
      "\n",
      "Number of odd numbers in the above array:  5\n"
     ]
    }
   ],
   "source": [
    "# Q6. Write a Python program to count the even, odd\n",
    "# numbers in a given array of integers using Lambda.\n",
    "array_nums = [1, 2, 3, 5, 7, 8, 9, 10]\n",
    "print(\"Original arrays:\")\n",
    "print(array_nums)\n",
    "odd_ctr = len(list(filter(lambda x: (x%2 != 0) , array_nums)))\n",
    "even_ctr = len(list(filter(lambda x: (x%2 == 0) , array_nums)))\n",
    "print(\"\\nNumber of even numbers in the above array: \", even_ctr)\n",
    "print(\"\\nNumber of odd numbers in the above array: \", odd_ctr)"
   ]
  },
  {
   "cell_type": "code",
   "execution_count": 11,
   "metadata": {},
   "outputs": [
    {
     "name": "stdout",
     "output_type": "stream",
     "text": [
      "Original list:\n",
      "[1, 2, 3]\n",
      "[4, 5, 6]\n",
      "\n",
      "Result: after adding two list\n",
      "[5, 7, 9]\n"
     ]
    }
   ],
   "source": [
    "# Q7 . Write a Python program to add two given lists using map and lambda\n",
    "\n",
    "nums1 = [1, 2, 3]\n",
    "nums2 = [4, 5, 6]\n",
    "print(\"Original list:\")\n",
    "print(nums1)\n",
    "print(nums2)\n",
    "result = map(lambda x, y: x + y, nums1, nums2)\n",
    "print(\"\\nResult: after adding two list\")\n",
    "print(list(result))"
   ]
  },
  {
   "cell_type": "code",
   "execution_count": 16,
   "metadata": {},
   "outputs": [
    {
     "name": "stdout",
     "output_type": "stream",
     "text": [
      "Original arrays:\n",
      "[-1, 2, -3, 5, 7, 8, 9, -10]\n",
      "\n",
      "Rearrange positive and negative numbers of the said array:\n",
      "[-1, -3, -10, 2, 5, 7, 8, 9]\n"
     ]
    }
   ],
   "source": [
    "# Q8 . Write a Python program to rearrange positive and\n",
    "# negative numbers in a given array using Lambda and filter\n",
    "array_nums = [-1, 2, -3, 5, 7, 8, 9, -10]\n",
    "print(\"Original arrays:\")\n",
    "print(array_nums)\n",
    "result = [x for x in array_nums if x < 0] + [x for x in array_nums if x >= 0]\n",
    "print(\"\\nRearrange positive and negative numbers of the said array:\")\n",
    "print(result)"
   ]
  },
  {
   "cell_type": "code",
   "execution_count": 17,
   "metadata": {},
   "outputs": [
    {
     "name": "stdout",
     "output_type": "stream",
     "text": [
      "Original list of integers:\n",
      "[1, 2, 3, 4, 5, 6, 7, 8, 9, 10]\n",
      "\n",
      "Even numbers from the said list:\n",
      "[2, 4, 6, 8, 10]\n",
      "\n",
      "Odd numbers from the said list:\n",
      "[1, 3, 5, 7, 9]\n"
     ]
    }
   ],
   "source": [
    "# Q9 Write a Python program to filter a list of integers using Lambda.\n",
    "nums = [1, 2, 3, 4, 5, 6, 7, 8, 9, 10]\n",
    "print(\"Original list of integers:\")\n",
    "print(nums)\n",
    "print(\"\\nEven numbers from the said list:\")\n",
    "even_nums = list(filter(lambda x: x%2 == 0, nums))\n",
    "print(even_nums)\n",
    "print(\"\\nOdd numbers from the said list:\")\n",
    "odd_nums = list(filter(lambda x: x%2 != 0, nums))\n",
    "print(odd_nums)"
   ]
  },
  {
   "cell_type": "code",
   "execution_count": 18,
   "metadata": {},
   "outputs": [
    {
     "name": "stdout",
     "output_type": "stream",
     "text": [
      "Original arrays:\n",
      "[1, 2, 3, 5, 7, 8, 9, 10]\n",
      "[1, 2, 4, 8, 9]\n",
      "\n",
      "Intersection of the said arrays:  [1, 2, 8, 9]\n"
     ]
    }
   ],
   "source": [
    "# Q10 Write a Python program to find the intersection of two\n",
    "# given arrays using Lambda and filter.\n",
    "array_nums1 = [1, 2, 3, 5, 7, 8, 9, 10]\n",
    "array_nums2 = [1, 2, 4, 8, 9]\n",
    "print(\"Original arrays:\")\n",
    "print(array_nums1)\n",
    "print(array_nums2)\n",
    "result = list(filter(lambda x: x in array_nums1, array_nums2)) \n",
    "print (\"\\nIntersection of the said arrays: \",result)"
   ]
  },
  {
   "cell_type": "code",
   "execution_count": null,
   "metadata": {},
   "outputs": [],
   "source": []
  }
 ],
 "metadata": {
  "kernelspec": {
   "display_name": "Python 3",
   "language": "python",
   "name": "python3"
  },
  "language_info": {
   "codemirror_mode": {
    "name": "ipython",
    "version": 3
   },
   "file_extension": ".py",
   "mimetype": "text/x-python",
   "name": "python",
   "nbconvert_exporter": "python",
   "pygments_lexer": "ipython3",
   "version": "3.7.6"
  }
 },
 "nbformat": 4,
 "nbformat_minor": 4
}
