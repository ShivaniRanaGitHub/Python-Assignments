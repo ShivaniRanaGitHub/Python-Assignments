{
 "cells": [
  {
   "cell_type": "code",
   "execution_count": 1,
   "metadata": {},
   "outputs": [
    {
     "name": "stdout",
     "output_type": "stream",
     "text": [
      "Append data is - I want to become a data scientist\n"
     ]
    }
   ],
   "source": [
    "#Q1 Write a python code to open a file for appending data.\n",
    "file_txt2 = open(\"sample2.txt\", \"a\")\n",
    "file_txt2.write(\"Append data is - I want to become a data scientist\")\n",
    "file_txt2.close()\n",
    "\n",
    "# Open and read file after appending\n",
    "file_txt2 = open(\"sample2.txt\", \"r\")\n",
    "print(file_txt2.read())"
   ]
  },
  {
   "cell_type": "code",
   "execution_count": 2,
   "metadata": {},
   "outputs": [
    {
     "name": "stdout",
     "output_type": "stream",
     "text": [
      "Ap\n"
     ]
    }
   ],
   "source": [
    "#Q2 How would you read two characters from a file .\n",
    "file_txt = open(\"sample2.txt\", \"r\")\n",
    "print(file_txt.read(2))"
   ]
  },
  {
   "cell_type": "code",
   "execution_count": 6,
   "metadata": {},
   "outputs": [
    {
     "name": "stdout",
     "output_type": "stream",
     "text": [
      "Append data is - I want to become a data scientist\n"
     ]
    }
   ],
   "source": [
    "#Q3 Which command is used to read the entire content of the file as a string.\n",
    "# Answer : read()\n",
    "file_txt = open(\"sample2.txt\", \"r\")\n",
    "print(file_txt.read())"
   ]
  },
  {
   "cell_type": "code",
   "execution_count": 13,
   "metadata": {},
   "outputs": [
    {
     "name": "stdout",
     "output_type": "stream",
     "text": [
      "Append data is - I want to become a data scientist\n",
      "\n",
      "My name is abc\n",
      "\n",
      "My company name is xyz\n"
     ]
    }
   ],
   "source": [
    "#Q4 How to read the next line of the file .\n",
    "file_txt = open(\"sample2.txt\",\"r\")\n",
    "print(file_txt.readline())\n",
    "print(file_txt.readline())\n",
    "print(file_txt.readline())"
   ]
  },
  {
   "cell_type": "code",
   "execution_count": 23,
   "metadata": {},
   "outputs": [
    {
     "name": "stdout",
     "output_type": "stream",
     "text": [
      "b'Append data is - I want to become a data scientist\\r\\nMy name is abc\\r\\nMy company name is xyz'\n"
     ]
    }
   ],
   "source": [
    "#Q5 Which command is used to open a file for reading in binary format only?\n",
    "#Answer : rb\n",
    "a = open(\"sample2.txt\",\"rb\")\n",
    "print(a.read())"
   ]
  },
  {
   "cell_type": "code",
   "execution_count": 24,
   "metadata": {},
   "outputs": [],
   "source": [
    "# Exception Handling\n",
    "#Q1 When will the else part of try-except-else be exceuted\n",
    "# a) always\n",
    "# b) when an exception occurs\n",
    "# c) when no exception occurs\n",
    "# d) when an exception occurs in to except block\n",
    "\n",
    "# Answer : C : when no exception occurs\n"
   ]
  },
  {
   "cell_type": "code",
   "execution_count": null,
   "metadata": {},
   "outputs": [],
   "source": [
    "#Q2 Can one block of except statements handle multiple exception?\n",
    "# a) yes, like except TypeError, SyntaxError [,...]\n",
    "# b) yes, like except [TypeError, SyntaxError]\n",
    "# c) no\n",
    "# d) none of the mentioned\n",
    "\n",
    "# Answer : a : yes, like except TypeError, SyntaxError [,...]\n"
   ]
  },
  {
   "cell_type": "code",
   "execution_count": null,
   "metadata": {},
   "outputs": [],
   "source": [
    "#Q3 What will be the output of the following Python code?\n",
    "# a) 1 2\n",
    "# b) 1\n",
    "# c) 2\n",
    "# d) none of the mentioned\n",
    "\n",
    "# Answer : a) 1 2\n",
    "\n",
    "def foo():\n",
    "    try:\n",
    "     print(1)\n",
    "    finally:\n",
    "     print(2)\n",
    "foo()\n"
   ]
  },
  {
   "cell_type": "code",
   "execution_count": 38,
   "metadata": {},
   "outputs": [
    {
     "name": "stdout",
     "output_type": "stream",
     "text": [
      "Errors occurred Done "
     ]
    }
   ],
   "source": [
    "#Q4 What is the output of the following program?\n",
    "# a) Compilation error\n",
    "# b) Runtime error\n",
    "# c) Errors occurred GFG Done\n",
    "# d) Errors occurred Done\n",
    "\n",
    "# Answer : d) Errors occurred Done\n",
    "\n",
    "value = [1, 2, 3, 4, 5]\n",
    "try:\n",
    " value = value[5]/0\n",
    "except (IndexError, ZeroDivisionError):\n",
    " print('Errors occurred ', end = '')\n",
    "else:\n",
    " print('GFG ', end = '')\n",
    "finally:\n",
    " print('Done ', end = '')\n",
    "\n"
   ]
  },
  {
   "cell_type": "code",
   "execution_count": 40,
   "metadata": {},
   "outputs": [
    {
     "name": "stdout",
     "output_type": "stream",
     "text": [
      "Cannot divide by 0 DONE"
     ]
    }
   ],
   "source": [
    "# Q5 What is the output of the following program?\n",
    "# a) Cannot divide by 0 DONE\n",
    "# b) Cannot divide by 0\n",
    "# c) Cannot divide by 0 Inside except block DONE\n",
    "# d) Cannot divide by 0 Inside except block\n",
    "\n",
    "# Answer a) Cannot divide by 0 DONE\n",
    "\n",
    "data = 50\n",
    "try:\n",
    " data = data/0\n",
    "except ZeroDivisionError:\n",
    " print('Cannot divide by 0 ', end = '')\n",
    "else:\n",
    " print('Division successful ', end = '')\n",
    "try:\n",
    " data = data/5\n",
    "except:\n",
    " print('Inside except block ', end = '')\n",
    "else:\n",
    " print('DONE', end = '')\n"
   ]
  },
  {
   "cell_type": "code",
   "execution_count": null,
   "metadata": {},
   "outputs": [],
   "source": []
  }
 ],
 "metadata": {
  "kernelspec": {
   "display_name": "Python 3",
   "language": "python",
   "name": "python3"
  },
  "language_info": {
   "codemirror_mode": {
    "name": "ipython",
    "version": 3
   },
   "file_extension": ".py",
   "mimetype": "text/x-python",
   "name": "python",
   "nbconvert_exporter": "python",
   "pygments_lexer": "ipython3",
   "version": "3.7.6"
  }
 },
 "nbformat": 4,
 "nbformat_minor": 4
}
