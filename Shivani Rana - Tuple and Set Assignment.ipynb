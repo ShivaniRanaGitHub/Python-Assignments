{
 "cells": [
  {
   "cell_type": "code",
   "execution_count": 6,
   "metadata": {},
   "outputs": [
    {
     "name": "stdout",
     "output_type": "stream",
     "text": [
      "(1, 2, 3, 4, 5, 6)\n",
      "(1, 2, 3, 4, 5, 6, 7)\n"
     ]
    }
   ],
   "source": [
    "# Qustion 1 of Tuple and Set Assignment\n",
    "# Write a Python program to add an item in a tuple.\n",
    "#create a tuple\n",
    "tuplex = (1, 2, 3, 4, 5, 6) \n",
    "print(tuplex)\n",
    "#tuples are immutable, so you can not add new elements\n",
    "#using merge of tuples with the + operator you can add an element and it will create a new tuple\n",
    "tuplex = tuplex + (7,)\n",
    "print(tuplex)\n"
   ]
  },
  {
   "cell_type": "code",
   "execution_count": 12,
   "metadata": {},
   "outputs": [
    {
     "name": "stdout",
     "output_type": "stream",
     "text": [
      "('i', 'n', 'a', 'v', 'i', 'h', 'S')\n",
      "(6, 5, 4, 3, 2, 1)\n"
     ]
    }
   ],
   "source": [
    "# Qustion 2 of Tuple and Set Assignment\n",
    "# Write a Python program to reverse a tuple.\n",
    "x = (\"Shivani\")\n",
    "y = reversed(x)\n",
    "print(tuple(y))\n",
    "tuplex = (1, 2, 3, 4, 5, 6) \n",
    "xelput = reversed(tuplex)\n",
    "print(tuple(xelput))\n"
   ]
  },
  {
   "cell_type": "code",
   "execution_count": 14,
   "metadata": {},
   "outputs": [
    {
     "name": "stdout",
     "output_type": "stream",
     "text": [
      "(99, 88)\n",
      "(11, 22)\n"
     ]
    }
   ],
   "source": [
    "# Qustion 3 of Tuple and Set Assignment\n",
    "# Swap the following two tuples\n",
    "tuple1 = (11, 22)\n",
    "tuple2 = (99, 88)\n",
    "tuple1, tuple2 = tuple2, tuple1\n",
    "print(tuple1)\n",
    "print(tuple2)"
   ]
  },
  {
   "cell_type": "code",
   "execution_count": 19,
   "metadata": {},
   "outputs": [
    {
     "data": {
      "text/plain": [
       "(11, [222, 33], 44, 55)"
      ]
     },
     "execution_count": 19,
     "metadata": {},
     "output_type": "execute_result"
    }
   ],
   "source": [
    "# Qustion 4 of Tuple and Set Assignment\n",
    "# Modify the first item (22) of a list inside a following tuple to 222\n",
    "tuple1 = (11, [22, 33], 44, 55)\n",
    "tuple1[1][0] = 222\n",
    "tuple1"
   ]
  },
  {
   "cell_type": "code",
   "execution_count": 22,
   "metadata": {},
   "outputs": [
    {
     "name": "stdout",
     "output_type": "stream",
     "text": [
      "(1, 2, 3)\n",
      "6\n"
     ]
    }
   ],
   "source": [
    "# Qustion 5 of Tuple and Set Assignment\n",
    "# Write a Python program to unpack a tuple in several variables\n",
    "tuplex = 1, 2, 3 \n",
    "print(tuplex)\n",
    "n1, n2, n3 = tuplex\n",
    "#unpack a tuple in variables\n",
    "print(n1 + n2 + n3) \n",
    "#the number of variables must be equal to the number of items of the tuple\n",
    "n1, n2, n3 = tuplex "
   ]
  },
  {
   "cell_type": "code",
   "execution_count": 26,
   "metadata": {},
   "outputs": [
    {
     "name": "stdout",
     "output_type": "stream",
     "text": [
      "{'Red'}\n",
      "{'Red', 'Green', 'Blue'}\n"
     ]
    }
   ],
   "source": [
    "# Qustion 6 of Tuple and Set Assignment\n",
    "# Write a Python program to add member(s) in an empty\n",
    "color_set = set()\n",
    "color_set.add(\"Red\")\n",
    "print(color_set)\n",
    "#Add multiple items\n",
    "color_set.update([\"Blue\", \"Green\"])\n",
    "print(color_set)\n"
   ]
  },
  {
   "cell_type": "code",
   "execution_count": 31,
   "metadata": {},
   "outputs": [
    {
     "name": "stdout",
     "output_type": "stream",
     "text": [
      "{'DS'}\n"
     ]
    }
   ],
   "source": [
    "# Qustion 7 of Tuple and Set Assignment\n",
    "# Write a Python program to create an intersection of sets\n",
    "setx = set([\"AI\", \"DS\"])\n",
    "sety = set([\"DS\", \"DA\"])\n",
    "setz = setx & sety\n",
    "print(setz)"
   ]
  },
  {
   "cell_type": "code",
   "execution_count": 32,
   "metadata": {},
   "outputs": [
    {
     "name": "stdout",
     "output_type": "stream",
     "text": [
      "{'AI', 'DA'}\n"
     ]
    }
   ],
   "source": [
    "# Qustion 8 of Tuple and Set Assignment\n",
    "# Write a Python program to create a symmetric difference in sets.\n",
    "setx = set([\"AI\", \"DS\"])\n",
    "sety = set([\"DS\", \"DA\"])\n",
    "setz = setx ^ sety\n",
    "print(setz)"
   ]
  },
  {
   "cell_type": "code",
   "execution_count": 38,
   "metadata": {},
   "outputs": [
    {
     "name": "stdout",
     "output_type": "stream",
     "text": [
      "{40, 50, 30}\n"
     ]
    }
   ],
   "source": [
    "# Qustion 9 of Tuple and Set Assignment\n",
    "# Return a set of identical items from a given two Python set\n",
    "set1 = {10, 20, 30, 40, 50}\n",
    "set2 = {30, 40, 50, 60, 70}\n",
    "print(set1.intersection(set2))"
   ]
  },
  {
   "cell_type": "code",
   "execution_count": 39,
   "metadata": {},
   "outputs": [
    {
     "name": "stdout",
     "output_type": "stream",
     "text": [
      "{40, 50}\n"
     ]
    }
   ],
   "source": [
    "# Qustion 10 of Tuple and Set Assignment\n",
    "# Remove 10, 20, 30 elements from a following set at once\n",
    "set1 = {10, 20, 30, 40, 50}\n",
    "set1.difference_update({10, 20, 30})\n",
    "print(set1)"
   ]
  },
  {
   "cell_type": "markdown",
   "metadata": {},
   "source": [
    "# Qustion 11 of Tuple and Set Assignment\n",
    "# Access value 20 from the following tuple\n",
    "example = (\"Pooja\", [10, 20, 30], (25, 50, 15))\n",
    "example[1][1]"
   ]
  },
  {
   "cell_type": "code",
   "execution_count": 47,
   "metadata": {},
   "outputs": [
    {
     "data": {
      "text/plain": [
       "20"
      ]
     },
     "execution_count": 47,
     "metadata": {},
     "output_type": "execute_result"
    }
   ],
   "source": [
    "# Qustion 11 of Tuple and Set Assignment\n",
    "# Access value 20 from the following tuple\n",
    "example = (\"Pooja\", [10, 20, 30], (25, 50, 15))\n",
    "example[1][1]"
   ]
  },
  {
   "cell_type": "code",
   "execution_count": 56,
   "metadata": {},
   "outputs": [
    {
     "name": "stdout",
     "output_type": "stream",
     "text": [
      "count of 50 is 2\n"
     ]
    }
   ],
   "source": [
    "# Question 12 of Tuple and Set Assignment\n",
    "# Count the number of occurrences of item 50 from a tuple\n",
    "numbers = (50, 10, 60, 70, 50)\n",
    "count = numbers.count(50)\n",
    "print(\"count of 50 is\",count)"
   ]
  },
  {
   "cell_type": "code",
   "execution_count": null,
   "metadata": {},
   "outputs": [],
   "source": []
  }
 ],
 "metadata": {
  "kernelspec": {
   "display_name": "Python 3",
   "language": "python",
   "name": "python3"
  },
  "language_info": {
   "codemirror_mode": {
    "name": "ipython",
    "version": 3
   },
   "file_extension": ".py",
   "mimetype": "text/x-python",
   "name": "python",
   "nbconvert_exporter": "python",
   "pygments_lexer": "ipython3",
   "version": "3.7.6"
  }
 },
 "nbformat": 4,
 "nbformat_minor": 4
}
