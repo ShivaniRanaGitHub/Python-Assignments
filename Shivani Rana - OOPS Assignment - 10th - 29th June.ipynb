{
 "cells": [
  {
   "cell_type": "code",
   "execution_count": 12,
   "metadata": {},
   "outputs": [],
   "source": [
    "# OOPS Assignment - 29th June\n",
    "# Q1 Create an empty class\n",
    "# class Dog:\n",
    "# species = \"Canis familiaris\"\n",
    "# def __init__(self, name, age):\n",
    "# self.name = name\n",
    "# self.age = age\n",
    "# buddy = Dog(\"Buddy\", 9)\n",
    "# miles = Dog(\"Miles\", 4)\n",
    "\n",
    "# Answer:\n",
    "# In Python, we can create an empty class by using the pass command after the definition \n",
    "# of the class object, because one line of code is compulsory for creating a class.\n",
    "# Pass command in Python is a null statement; it does nothing when executes.\n",
    "\n",
    "\n",
    "class Dog:\n",
    "    pass   # Create empty class using Pass command\n",
    "    #Class attribute\n",
    "    species = \"Canis familiaris\"\n",
    "    \n",
    "     # Initializer/Instance attribute\n",
    "    def __init__(self,name,age):\n",
    "        self.name = name\n",
    "        self.age = age \n",
    "#Instantiating the object for the class Dog        \n",
    "buddy = Dog(\"Buddy\", 9)\n",
    "miles = Dog(\"Miles\", 4)\n",
    "\n",
    "\n"
   ]
  },
  {
   "cell_type": "code",
   "execution_count": 11,
   "metadata": {},
   "outputs": [
    {
     "name": "stdout",
     "output_type": "stream",
     "text": [
      "Buddy is 9 and Miles is 4.\n",
      "Canis familiaris\n",
      "Buddy\n",
      "9\n"
     ]
    }
   ],
   "source": [
    "# Q2 Given the Dog class above retrieve the Object and class attributes.\n",
    "class Dog:\n",
    "    \n",
    "    #Class attribute\n",
    "    species = \"Canis familiaris\"\n",
    "    \n",
    "     # Initializer/Instance attribute\n",
    "    def __init__(self,name,age):\n",
    "        self.name = name\n",
    "        self.age = age \n",
    "#Instantiating the object for the class Dog        \n",
    "buddy = Dog(\"Buddy\", 9)\n",
    "miles = Dog(\"Miles\", 4)\n",
    "# Accees the instance atrributes\n",
    "print(\"{} is {} and {} is {}.\".format(buddy.name,buddy.age,miles.name,miles.age))\n",
    "print(buddy.species)\n",
    "print(buddy.name)\n",
    "print(buddy.age)\n"
   ]
  },
  {
   "cell_type": "code",
   "execution_count": 28,
   "metadata": {},
   "outputs": [
    {
     "name": "stdout",
     "output_type": "stream",
     "text": [
      "Area of circle is 78.5\n",
      "Perimeter of Circle is  31.400000000000002\n"
     ]
    }
   ],
   "source": [
    "# Q3 Write a Python class named Circle constructed by a radius\n",
    "# and two methods which will compute the area and the perimeter of a circle.\n",
    "class Circle:\n",
    "\n",
    "    def __init__(self,radius):\n",
    "        self.radius = radius\n",
    "        \n",
    "    def area(self):\n",
    "        return self.radius ** 2 * 3.14\n",
    "    \n",
    "    def perimeter(self):\n",
    "        return 2*self.radius*3.14\n",
    "    \n",
    "cir = Circle(5)\n",
    "print(\"Area of circle is\", cir.area()) \n",
    "print(\"Perimeter of Circle is \", cir.perimeter())\n",
    "\n"
   ]
  },
  {
   "cell_type": "code",
   "execution_count": 31,
   "metadata": {},
   "outputs": [
    {
     "name": "stdout",
     "output_type": "stream",
     "text": [
      "world hello\n"
     ]
    }
   ],
   "source": [
    "# Q4 Write a Python class to reverse a string word by word.\n",
    "# For example:\n",
    "# Input string : 'hello world'\n",
    "# Expected Output : 'world hello'\n",
    "class Reverse:\n",
    "    def reverse_words(self, s):\n",
    "        return ' '.join(reversed(s.split()))\n",
    "\n",
    "\n",
    "print(Reverse().reverse_words('hello world'))\n",
    "\n"
   ]
  },
  {
   "cell_type": "code",
   "execution_count": 36,
   "metadata": {},
   "outputs": [
    {
     "name": "stdout",
     "output_type": "stream",
     "text": [
      "Name of Student is  Shivani\n",
      "RollNumber of student is 101\n",
      "Age of Student is  18\n",
      "Marks of student is  95\n"
     ]
    }
   ],
   "source": [
    "# Q5 Create a Student class and initialize it with name and rollnumber. Make methods to :\n",
    "# i) Display - It should display all information of the student.\n",
    "# ii)setAge - It should assign age to student\n",
    "# iii) setMarks - It should assign marks to the student.\n",
    "class Student:\n",
    "      def __init__(self,name,rollnumber,age,marks):\n",
    "        self.name = name\n",
    "        self.rollnumber = rollnumber\n",
    "        self.age = age\n",
    "        self.marks = marks\n",
    "         \n",
    "        \n",
    "obj = Student(name='Shivani', rollnumber = 101, age =18, marks = 95) \n",
    "print(\"Name of Student is \",obj.name) \n",
    "print(\"RollNumber of student is\",obj.rollnumber)\n",
    "print(\"Age of Student is \",obj.age)\n",
    "print(\"Marks of student is \",obj.marks)\n",
    "\n"
   ]
  },
  {
   "cell_type": "code",
   "execution_count": 44,
   "metadata": {},
   "outputs": [],
   "source": [
    "# Q5\n",
    "# another way\n",
    "class Student():\n",
    "  def __init__(self,name,roll):\n",
    "    self.name = name\n",
    "    self.roll= roll\n",
    "  def display(self):\n",
    "    print(self.name)\n",
    "    print(self.roll)\n",
    "  def setAge(self,age):\n",
    "    self.age=age\n",
    "  def setMarks(self,marks):\n",
    "    self.marks = marks"
   ]
  },
  {
   "cell_type": "code",
   "execution_count": 51,
   "metadata": {},
   "outputs": [
    {
     "name": "stdout",
     "output_type": "stream",
     "text": [
      "90\n"
     ]
    }
   ],
   "source": [
    "# Q6 Write a Python class named Rectangle constructed by a\n",
    "# length and width and a method which will compute the area of a rectangle.\n",
    "class Rectangle():\n",
    "    def __init__(self, length, width):\n",
    "        self.length = length\n",
    "        self.width  = width\n",
    "\n",
    "    def area(self):\n",
    "        return self.length*self.width\n",
    "\n",
    "rect = Rectangle(15, 6)\n",
    "print(rect.area())"
   ]
  },
  {
   "cell_type": "code",
   "execution_count": null,
   "metadata": {},
   "outputs": [],
   "source": []
  }
 ],
 "metadata": {
  "kernelspec": {
   "display_name": "Python 3",
   "language": "python",
   "name": "python3"
  },
  "language_info": {
   "codemirror_mode": {
    "name": "ipython",
    "version": 3
   },
   "file_extension": ".py",
   "mimetype": "text/x-python",
   "name": "python",
   "nbconvert_exporter": "python",
   "pygments_lexer": "ipython3",
   "version": "3.7.6"
  }
 },
 "nbformat": 4,
 "nbformat_minor": 4
}
