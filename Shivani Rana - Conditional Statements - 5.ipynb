{
 "cells": [
  {
   "cell_type": "code",
   "execution_count": 1,
   "metadata": {},
   "outputs": [
    {
     "name": "stdout",
     "output_type": "stream",
     "text": [
      "Enter the first number: 10\n",
      "Enter the second number: 20\n",
      "20 is greater\n"
     ]
    }
   ],
   "source": [
    "# Q1 Take two integer values from the user and print greatest among them.\n",
    "# Conditional Statement \n",
    "a = int(input(\"Enter the first number: \"))\n",
    "b = int(input(\"Enter the second number: \"))\n",
    "if(a >= b):\n",
    "  print(a, \"is greater\")\n",
    "else:\n",
    "  print(b, \"is greater\")"
   ]
  },
  {
   "cell_type": "code",
   "execution_count": 7,
   "metadata": {},
   "outputs": [
    {
     "name": "stdout",
     "output_type": "stream",
     "text": [
      "Enter the number: 20\n",
      "20 is even\n"
     ]
    }
   ],
   "source": [
    "# Q2 Write a prohram that reads an integer from the user. \n",
    "# Then your program should display a message indicating\n",
    "# whether the integer is even or odd.\n",
    "number = int(input(\"Enter the number: \"))\n",
    "if(number%2) ==0:\n",
    " print(number, \"is even\")\n",
    "else:\n",
    " print(number, \"is ODD\")\n"
   ]
  },
  {
   "cell_type": "code",
   "execution_count": 20,
   "metadata": {},
   "outputs": [
    {
     "name": "stdout",
     "output_type": "stream",
     "text": [
      "Input a letter of the alphabet: e\n",
      "e is a vowel.\n"
     ]
    }
   ],
   "source": [
    "# Q3 Create a program that reads a letter of the alphabet from\n",
    "# the user. If the user enters a, e, i, o or u then your program\n",
    "# should display a message indicating that the entered letter is\n",
    "# a vowel. If the user enters y then your program should\n",
    "# display a message indicating that sometimes y is a vowel,\n",
    "# and sometimes y is a consonant. Otherwise your program\n",
    "# should display a message indicating that the letter is a consonant\n",
    "\n",
    "letter = input(\"Input a letter of the alphabet: \")\n",
    "if letter in ('a', 'e', 'i', 'o' , 'u'):\n",
    " print(\"%s is a vowel.\" % letter)\n",
    "elif letter == 'y':\n",
    " print(\"Sometimes letter y is a vowel, sometimes y is a consonant.\")\n",
    "else:\n",
    " print(\"%s is a consonant.\" % letter) \n",
    "\n",
    "    "
   ]
  },
  {
   "cell_type": "code",
   "execution_count": 49,
   "metadata": {},
   "outputs": [
    {
     "name": "stdout",
     "output_type": "stream",
     "text": [
      "Enter the 1st side of triangle 1\n",
      "Enter the 2nd side of triangle 2\n",
      "Enter the Third side of triangle 2\n",
      " Isosceles Triangle\n"
     ]
    }
   ],
   "source": [
    "# Q4 A triangle can be classified based on the lengths of its\n",
    "# sides as equilateral, isosceles or scalene. \n",
    "# All three sides of an equilateral triangle have the same length.\n",
    "# An isosceles triangle has two sides that are the same length, and a third side that is a different length.\n",
    "# If all of the sides have different lengths then the triangle is scalene. \n",
    "# Write a program that reads the lengths of the three sides of a triangle from the user.\n",
    "# Then display a message that states the triangle’s type.\n",
    "Side1 = int(input(\"Enter the 1st side of triangle \"))\n",
    "Side2 = int(input(\"Enter the 2nd side of triangle \"))\n",
    "Side3 = int(input(\"Enter the Third side of triangle \"))\n",
    "if Side1 == Side2 ==Side3:\n",
    " print(\"Equilateral Triangle\")\n",
    "elif Side1 == Side2 or Side2 ==Side3 or Side3 == Side1:\n",
    " print(\" Isosceles Triangle\")\n",
    "else:\n",
    " print(\" Scalene Triangle\")\n"
   ]
  },
  {
   "cell_type": "code",
   "execution_count": 2,
   "metadata": {},
   "outputs": [
    {
     "name": "stdout",
     "output_type": "stream",
     "text": [
      "Enter the number of sides5\n",
      "Pentagon Shape\n"
     ]
    }
   ],
   "source": [
    "# Q5 Write a program that determines the name of a shape from its number of sides. \n",
    "# Read the number of sides from the user and then report the appropriate name as part of a\n",
    "# meaningful message. \n",
    "# Your program should support shapes with anywhere from 3 up to (and including) 10 sides.\n",
    "# If a number of sides outside of this range is entered then your program should display an appropriate error message.\n",
    "Number_Sides = int(input(\"Enter the number of sides\"))\n",
    "if Number_Sides ==3:\n",
    " print(\"Triangle Shape\")\n",
    "elif Number_Sides ==4:\n",
    " print(\"Square Shape\")\n",
    "elif Number_Sides ==5:\n",
    " print(\"Pentagon Shape\")\n",
    "elif Number_Sides ==6:\n",
    " print(\"Hexagon Shape\")\n",
    "elif Number_Sides ==7:\n",
    " print(\"Heptagon Shape\")\n",
    "elif Number_Sides ==8:\n",
    " print(\"Octagon Shape\")\n",
    "elif Number_Sides ==9:\n",
    " print(\"Nonagon Shape\")\n",
    "elif Number_Sides ==10:\n",
    " print(\"Decagon Shape\")\n",
    "else:\n",
    " print(\"Out of Range\")"
   ]
  },
  {
   "cell_type": "code",
   "execution_count": 22,
   "metadata": {},
   "outputs": [
    {
     "name": "stdout",
     "output_type": "stream",
     "text": [
      "Enter quantity 11\n",
      "Cost is 990.0\n"
     ]
    }
   ],
   "source": [
    "# Q6 A shop will give a discount of 10% if the cost of the purchased quantity is more than 1000. \n",
    "# Ask the user for quantity, suppose, one unit will cost 100. \n",
    "# Judge and printtotal cost for user.\n",
    "quantity = int(input(\"Enter quantity \"))\n",
    "if((quantity * 100) > 1000):\n",
    "  print(\"Cost is\",((quantity*100)-(.1*quantity*100)))\n",
    "else:\n",
    "  print(\"Cost is\", quantity*100)\n"
   ]
  },
  {
   "cell_type": "code",
   "execution_count": 3,
   "metadata": {},
   "outputs": [
    {
     "name": "stdout",
     "output_type": "stream",
     "text": [
      "Mr A - Enter the Age : 10\n",
      "Mr b - Enter the Age : 20\n",
      "Mr c - Enter the Age : 40\n",
      "Oldest is Mr. C and age is 40\n",
      "Youngest is Mr. A and age is 10\n"
     ]
    }
   ],
   "source": [
    "# Q7 Take input of age of 3 people by user and \n",
    "# determine oldest and youngest among them.\n",
    "a = int(input(\"Mr A - Enter the Age : \"))\n",
    "b = int(input(\"Mr b - Enter the Age : \"))\n",
    "c = int(input(\"Mr c - Enter the Age : \"))\n",
    "if a >= b and a >= c:\n",
    "    print(\"Oldest is Mr. A and age is\", a)\n",
    "elif b>=a and b>=c:\n",
    "    print(\"Oldest is Mr. B and age is\", b)\n",
    "elif c>=a and c>=b:\n",
    "    print(\"Oldest is Mr. C and age is\", c)\n",
    "    \n",
    "if a <= b and a <= c:\n",
    "    print(\"Youngest is Mr. A and age is\", a)\n",
    "elif b<=a and b<=c:\n",
    "    print(\"Youngest is Mr. B and age is\", b)\n",
    "elif c<=a and c<=b:\n",
    "    print(\"Youngest is Mr. C and age is\", c)\n"
   ]
  },
  {
   "cell_type": "code",
   "execution_count": 16,
   "metadata": {},
   "outputs": [
    {
     "name": "stdout",
     "output_type": "stream",
     "text": [
      "Enter salary 10000\n",
      "Enter year of service 6\n",
      "Bonus is 500.0\n"
     ]
    }
   ],
   "source": [
    "# Q8 A company decided to give bonus of 5% to employee if his/her year of service is more than 5 years.\n",
    "# Ask user for their salary and year of service and print the net bonus amount.\n",
    "sal = int(input(\"Enter salary \"))\n",
    "yos = int(input(\"Enter year of service \"))\n",
    "if(yos > 5): \n",
    " print(\"Bonus is\" , .05 * sal)\n",
    "else:\n",
    "  print(\"No bonus\")\n"
   ]
  },
  {
   "cell_type": "code",
   "execution_count": 35,
   "metadata": {},
   "outputs": [
    {
     "name": "stdout",
     "output_type": "stream",
     "text": [
      "Leap Year\n"
     ]
    }
   ],
   "source": [
    "#Q9 Write a program to check if a year is leap year or not.\n",
    "# If a year is divisible by 4 then it is leap year but if the year is\n",
    "# a century year like 2000, 1900, 2100 then it must be divisible by 400\n",
    "def checkYear(year): \n",
    "  \n",
    "    return (((year % 4 == 0) and (year % 100 != 0)) or (year % 400 == 0)); \n",
    "  \n",
    "year = 2020\n",
    "if(checkYear(year)): \n",
    "    print(\"Leap Year\") \n",
    "else: \n",
    "    print(\"Not a Leap year\") \n",
    "    "
   ]
  },
  {
   "cell_type": "code",
   "execution_count": 3,
   "metadata": {},
   "outputs": [
    {
     "name": "stdout",
     "output_type": "stream",
     "text": [
      "Enter the D1: 5\n",
      "Enter the D2: 2\n",
      "winner\n"
     ]
    }
   ],
   "source": [
    "# Accept d1 and d2 as input. First, check to see that they\n",
    "# are in the proper range for dice. If not, print a message.\n",
    "# Otherwise, determine the outcome if this is the come out roll.\n",
    "# If the sum is 7 or 11, print the winner. If the sum is 2, 3 or\n",
    "# 12, print loser. Otherwise print the point.\n",
    "d1 = int(input(\"Enter the D1: \"))\n",
    "d2 = int(input(\"Enter the D2: \"))\n",
    "result= None\n",
    "if((d1+d2 == 7) or (d1+d2 == 11)):\n",
    " result= \"winner\"\n",
    "elif((d1+d2 == 2) or (d1+d2 == 3) or (d1+d2 == 12)):\n",
    " result= \"loser\"\n",
    "else:\n",
    "    point = d1 + d2\n",
    "    print(point)\n",
    "print(result)"
   ]
  },
  {
   "cell_type": "code",
   "execution_count": 18,
   "metadata": {},
   "outputs": [
    {
     "name": "stdout",
     "output_type": "stream",
     "text": [
      "List of months: January, February, March, April, May, June, July, August, September, October, November, December\n",
      "Input the name of Month: November\n",
      "No. of days: 30 days\n"
     ]
    }
   ],
   "source": [
    "##### Q11 Write a python program to display the number of days in\n",
    "# a month name from the given list of months or month\n",
    "# number entered by user.\n",
    "print(\"List of months: January, February, March, April, May, June, July, August, September, October, November, December\")\n",
    "month_name = input(\"Input the name of Month: \")\n",
    "\n",
    "if month_name == \"February\":\n",
    " print(\"No. of days: 28/29 days\")\n",
    "elif month_name in (\"April\", \"June\", \"September\", \"November\"):\n",
    " print(\"No. of days: 30 days\")\n",
    "elif month_name in (\"January\", \"March\", \"May\", \"July\", \"August\", \"October\", \"December\"):\n",
    " print(\"No. of days: 31 day\")\n",
    "else:\n",
    " print(\"Wrong month name\") "
   ]
  },
  {
   "cell_type": "code",
   "execution_count": 11,
   "metadata": {},
   "outputs": [
    {
     "name": "stdout",
     "output_type": "stream",
     "text": [
      "Input a year: 2020\n",
      "Input a month [1-12]: 6\n",
      "Input a day [1-31]: 4\n",
      "The next date is [yyyy-mm-dd] 2020-6-5.\n"
     ]
    }
   ],
   "source": [
    "#Q12 Write a Python program to get next day of a given date.\n",
    "year = int(input(\"Input a year: \"))\n",
    "\n",
    "if (year % 400 == 0):\n",
    "    leap_year = True\n",
    "elif (year % 100 == 0):\n",
    "    leap_year = False\n",
    "elif (year % 4 == 0):\n",
    "    leap_year = True\n",
    "else:\n",
    "    leap_year = False\n",
    "\n",
    "month = int(input(\"Input a month [1-12]: \"))\n",
    "\n",
    "if month in (1, 3, 5, 7, 8, 10, 12):\n",
    "    month_length = 31\n",
    "elif month == 2:\n",
    "    if leap_year:\n",
    "        month_length = 29\n",
    "    else:\n",
    "        month_length = 28\n",
    "else:\n",
    "    month_length = 30\n",
    "\n",
    "\n",
    "day = int(input(\"Input a day [1-31]: \"))\n",
    "\n",
    "if day < month_length:\n",
    "    day += 1\n",
    "else:\n",
    "    day = 1\n",
    "    if month == 12:\n",
    "        month = 1\n",
    "        year += 1\n",
    "    else:\n",
    "        month += 1\n",
    "print(\"The next date is [yyyy-mm-dd] %d-%d-%d.\" % (year, month, day))"
   ]
  },
  {
   "cell_type": "code",
   "execution_count": null,
   "metadata": {},
   "outputs": [],
   "source": []
  },
  {
   "cell_type": "code",
   "execution_count": null,
   "metadata": {},
   "outputs": [],
   "source": []
  }
 ],
 "metadata": {
  "kernelspec": {
   "display_name": "Python 3",
   "language": "python",
   "name": "python3"
  }
 },
 "nbformat": 4,
 "nbformat_minor": 4
}
