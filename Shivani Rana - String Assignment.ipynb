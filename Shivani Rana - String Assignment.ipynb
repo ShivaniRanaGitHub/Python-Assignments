{
 "cells": [
  {
   "cell_type": "code",
   "execution_count": 51,
   "metadata": {},
   "outputs": [
    {
     "name": "stdout",
     "output_type": "stream",
     "text": [
      "5\n",
      "type is <class 'int'>\n",
      "10.7\n",
      "type is <class 'float'>\n",
      "abc\n",
      "type is <class 'str'>\n",
      "(3-4j)\n",
      "type is <class 'complex'>\n",
      "False\n",
      "type is <class 'bool'>\n"
     ]
    }
   ],
   "source": [
    "# Question 1 of String Assignment\n",
    "# Define different types of variables (integer, boolean,string, float, complex) and\n",
    "# print their values and their types\n",
    "a = 5\n",
    "print(a, sep=\"\\n\")\n",
    "print(\"type is\", type(a))\n",
    "b = 10.7\n",
    "print(b, sep=\"\\n\")\n",
    "print(\"type is\", type(b))\n",
    "c = \"abc\"\n",
    "print(c, sep=\"\\n\")\n",
    "print(\"type is\", type(c))\n",
    "z = 3-4j\n",
    "print(z, sep=\"\\n\")\n",
    "print(\"type is\", type(z))\n",
    "a = 12\n",
    "b = 13\n",
    "a == b\n",
    "print(a==b)\n",
    "print(\"type is\", type(a == b))\n",
    "\n"
   ]
  },
  {
   "cell_type": "code",
   "execution_count": 10,
   "metadata": {},
   "outputs": [
    {
     "name": "stdout",
     "output_type": "stream",
     "text": [
      "15\n",
      "15\n"
     ]
    },
    {
     "data": {
      "text/plain": [
       "'12'"
      ]
     },
     "execution_count": 10,
     "metadata": {},
     "output_type": "execute_result"
    }
   ],
   "source": [
    "# Question 2a of String Assignment\n",
    "# In the above question convert float variable into integer type\n",
    "# integer variable into str type.\n",
    "\n",
    "myfloat = 15.5\n",
    "myint = int(myfloat)\n",
    "print(myint)\n",
    "\n",
    "mystrafterconversion = str(myint)\n",
    "print(mystrafterconversion)\n",
    "str(12)\n"
   ]
  },
  {
   "cell_type": "code",
   "execution_count": 67,
   "metadata": {},
   "outputs": [
    {
     "name": "stdout",
     "output_type": "stream",
     "text": [
      "True\n"
     ]
    }
   ],
   "source": [
    "# Question 3 of String Assignment\n",
    "# What will you get converting “abc” into boolean\n",
    "x = \"abc\"\n",
    "print(bool(x)) "
   ]
  },
  {
   "cell_type": "code",
   "execution_count": 71,
   "metadata": {},
   "outputs": [
    {
     "name": "stdout",
     "output_type": "stream",
     "text": [
      "Result1 =  llo\n"
     ]
    }
   ],
   "source": [
    "# Question 4 of String Assignment\n",
    "# Print the substring from index 2 to index 4 for any given\n",
    "# string. For example (llo) from “Hello World”\n",
    "s = \"Hello World!\"\n",
    " \n",
    "res1 = s[2:5]\n",
    " \n",
    "print(\"Result1 = \",res1)\n"
   ]
  },
  {
   "cell_type": "code",
   "execution_count": 26,
   "metadata": {},
   "outputs": [
    {
     "name": "stdout",
     "output_type": "stream",
     "text": [
      "e\n",
      "4\n",
      "Found 'e' in the string.\n",
      "Found!\n"
     ]
    }
   ],
   "source": [
    "# Question 5 of String Assignment\n",
    "# Write a program to check a substring in a given string.\n",
    "# For example 'e' is present in the word 'Umbrella'\n",
    "\n",
    "String1 = \"Umbrella\" \n",
    "print(String1[4])\n",
    "\n",
    "# another method\n",
    "U = 'Umbrella'\n",
    "result = U.find('e')\n",
    "print(result)\n",
    "\n",
    "# another method\n",
    "U = \"Umbrella\"\n",
    "if U.find(\"e\") == -1:\n",
    "    print(\"No 'is' here!\")\n",
    "else:\n",
    "    print(\"Found 'e' in the string.\")\n",
    "    \n",
    "# another method\n",
    "fullstring = \"Umbrella\"\n",
    "substring = \"e\"\n",
    "\n",
    "try:\n",
    "    fullstring.index(substring)\n",
    "except ValueError:\n",
    "    print(\"Not found!\")\n",
    "else:\n",
    "    print(\"Found!\")"
   ]
  },
  {
   "cell_type": "code",
   "execution_count": 92,
   "metadata": {},
   "outputs": [
    {
     "data": {
      "text/plain": [
       "False"
      ]
     },
     "execution_count": 92,
     "metadata": {},
     "output_type": "execute_result"
    }
   ],
   "source": [
    "# Question 6 of String Assignment\n",
    "# Use the correct comparison operator to check if 5 is not\n",
    "#equal to 10.\n",
    "5 == 10\n"
   ]
  },
  {
   "cell_type": "code",
   "execution_count": 96,
   "metadata": {},
   "outputs": [
    {
     "name": "stdout",
     "output_type": "stream",
     "text": [
      "Enter a string: Zebra Tirtoise Snake Elephant\n",
      "Elephant\n",
      "Snake\n",
      "Tirtoise\n",
      "Zebra\n"
     ]
    }
   ],
   "source": [
    "# Question 7 of String Assignment\n",
    "# Write a program to get a string from the user and sort the\n",
    "# words of the string in alphabetical order.\n",
    "my_str = input(\"Enter a string: \")  \n",
    "words = my_str.split()  \n",
    "words.sort()    \n",
    "for word in words:  \n",
    "   print(word)  \n"
   ]
  },
  {
   "cell_type": "code",
   "execution_count": 28,
   "metadata": {},
   "outputs": [
    {
     "data": {
      "text/plain": [
       "'PythonGood'"
      ]
     },
     "execution_count": 28,
     "metadata": {},
     "output_type": "execute_result"
    }
   ],
   "source": [
    "# Question 8 of String Assignment\n",
    "# Join two words using special characters like ‘ – ‘ ,’#’\n",
    "a = \"Python\"\n",
    "b = \"Good\"\n",
    "a + b\n"
   ]
  },
  {
   "cell_type": "code",
   "execution_count": 49,
   "metadata": {},
   "outputs": [
    {
     "name": "stdout",
     "output_type": "stream",
     "text": [
      "WELCOME TO INDIA. INDIA IS AWESOME.\n",
      "The substring to find : INDIA\n",
      "Ocuurence of INDIA is 2\n"
     ]
    }
   ],
   "source": [
    "# Question 9 of String Assignment\n",
    "# Find all occurrences of “INDIA” in a given string. Case ignorance\n",
    "input_str = \"Welcome to INDIA. india is awesome.\"\n",
    "test = input_str.upper()\n",
    "print(test)\n",
    "test_str = \"INDIA\"\n",
    "print(\"The substring to find : \" + test_str)\n",
    "count = test.count(test_str)\n",
    "print(\"Ocuurence of INDIA is\", count)\n",
    "\n"
   ]
  },
  {
   "cell_type": "code",
   "execution_count": 53,
   "metadata": {},
   "outputs": [
    {
     "name": "stdout",
     "output_type": "stream",
     "text": [
      "NNDNA\n"
     ]
    }
   ],
   "source": [
    "# Question 10 of String Assignment\n",
    "# Replace first two ‘l’ with ‘n’ in ‘Hello World’\n",
    "# not able to understand.It seems, you wanted to write India. By mistake you write hello world\n",
    "\n",
    "x = \"INDIA\"\n",
    "x = x.replace(\"I\",\"N\")\n",
    "print(x)"
   ]
  },
  {
   "cell_type": "code",
   "execution_count": 50,
   "metadata": {},
   "outputs": [
    {
     "name": "stdout",
     "output_type": "stream",
     "text": [
      "R.B.Roser\n"
     ]
    }
   ],
   "source": [
    "# Question 11 of String Assignment\n",
    "# Write a program that takes your full name as input and\n",
    "# displays the abbreviations of the first and middle names\n",
    "# except the last name which is displayed as it is. For\n",
    "# example, if your name is Robert Brett Roser, then the\n",
    "# output should be R.B.Roser.\n",
    "a = \"Robert Brett Roser\"\n",
    "a = a.split()\n",
    "b = a[0][0]+\".\"+a[1][0]+\".\"+a[2]\n",
    "print(b)"
   ]
  },
  {
   "cell_type": "code",
   "execution_count": 118,
   "metadata": {},
   "outputs": [
    {
     "name": "stdout",
     "output_type": "stream",
     "text": [
      "Yes\n"
     ]
    }
   ],
   "source": [
    "# Question 12 of String assignment\n",
    "def isPalindrome(s): \n",
    "    return s == s[::-1] \n",
    " \n",
    "s = \"abccba\"\n",
    "ans = isPalindrome(s) \n",
    "  \n",
    "if ans: \n",
    "    print(\"Yes\") \n",
    "else: \n",
    "    print(\"No\") "
   ]
  },
  {
   "cell_type": "code",
   "execution_count": null,
   "metadata": {},
   "outputs": [],
   "source": []
  }
 ],
 "metadata": {
  "kernelspec": {
   "display_name": "Python 3",
   "language": "python",
   "name": "python3"
  },
  "language_info": {
   "codemirror_mode": {
    "name": "ipython",
    "version": 3
   },
   "file_extension": ".py",
   "mimetype": "text/x-python",
   "name": "python",
   "nbconvert_exporter": "python",
   "pygments_lexer": "ipython3",
   "version": "3.7.6"
  }
 },
 "nbformat": 4,
 "nbformat_minor": 4
}
