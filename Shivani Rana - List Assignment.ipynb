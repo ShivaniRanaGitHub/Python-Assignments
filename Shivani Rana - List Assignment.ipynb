{
 "cells": [
  {
   "cell_type": "code",
   "execution_count": 9,
   "metadata": {},
   "outputs": [
    {
     "name": "stdout",
     "output_type": "stream",
     "text": [
      "Mumbai\n"
     ]
    }
   ],
   "source": [
    "# Question 1a of List Assignment\n",
    "# Print the second item from the list.\n",
    "City = [\"Gurgaon\", \"Mumbai\", \"Bangalore\"]\n",
    "print(City[1])"
   ]
  },
  {
   "cell_type": "code",
   "execution_count": 10,
   "metadata": {},
   "outputs": [
    {
     "name": "stdout",
     "output_type": "stream",
     "text": [
      "['Kerala', 'Mumbai', 'Bangalore']\n"
     ]
    }
   ],
   "source": [
    "# Question 1b of List Assignment\n",
    "# Change the value from \"Gurgaon\" to \"Kerala\"\n",
    "City[0] = \"Kerala\"\n",
    "print(City)"
   ]
  },
  {
   "cell_type": "code",
   "execution_count": 40,
   "metadata": {},
   "outputs": [
    {
     "name": "stdout",
     "output_type": "stream",
     "text": [
      "['Gurgaon', 'Mumbai']\n"
     ]
    }
   ],
   "source": [
    "# Question 1c of List Assignment\n",
    "# Remove the last element of the list.\n",
    "City = [\"Gurgaon\", \"Mumbai\", \"Bangalore\"]\n",
    "del City[-1]\n",
    "print(City)\n"
   ]
  },
  {
   "cell_type": "code",
   "execution_count": 17,
   "metadata": {},
   "outputs": [
    {
     "name": "stdout",
     "output_type": "stream",
     "text": [
      "[10, 20, 30, 40]\n",
      "40\n"
     ]
    }
   ],
   "source": [
    "# Question 2 of List Assignment\n",
    "# Use negative indexing to print the last item in the list. Make a list by yourself.\n",
    "z = [10, 20, 30, 40]\n",
    "print(z)\n",
    "print(z[-1])"
   ]
  },
  {
   "cell_type": "code",
   "execution_count": 35,
   "metadata": {},
   "outputs": [
    {
     "name": "stdout",
     "output_type": "stream",
     "text": [
      "[30, 40, 50]\n"
     ]
    }
   ],
   "source": [
    "# Question 3 of List Assignment\n",
    "# Use a range of indexes to print the third, fourth, and fifth \n",
    "# item in the list. Make a list by yourself.\n",
    "list = [10, 20, 30, 40, 50, 60]\n",
    "index_list = [2,3,4]\n",
    "actual_list = [list[i] for i in index_list]\n",
    "print(actual_list)"
   ]
  },
  {
   "cell_type": "code",
   "execution_count": 42,
   "metadata": {},
   "outputs": [
    {
     "name": "stdout",
     "output_type": "stream",
     "text": [
      "Bangalore\n",
      "['Gurgaon', 'Mumbai']\n"
     ]
    }
   ],
   "source": [
    "# Question 4 of List Assignment\n",
    "# Remove the last element from the city list\n",
    "City = [\"Gurgaon\", \"Mumbai\", \"Bangalore\"]\n",
    "print(City.pop())\n",
    "print(City)"
   ]
  },
  {
   "cell_type": "code",
   "execution_count": 49,
   "metadata": {},
   "outputs": [
    {
     "name": "stdout",
     "output_type": "stream",
     "text": [
      "['apple', 'lichi', 'guava', 'cherry', 'mango', 'watermelon', 'banana', 'orange']\n"
     ]
    }
   ],
   "source": [
    "# Question 5a of List Assignment\n",
    "# Add \"orange\" at the end of the above list.\n",
    "fruits = [\"apple\",\"lichi\",\"guava\",\"cherry\",\"mango\",\"watermelon\",\"banana\"]\n",
    "fruits.append(\"orange\")\n",
    "print(fruits)"
   ]
  },
  {
   "cell_type": "code",
   "execution_count": 52,
   "metadata": {},
   "outputs": [
    {
     "name": "stdout",
     "output_type": "stream",
     "text": [
      "['apple', 'lemon', 'lichi', 'guava', 'cherry', 'mango', 'watermelon', 'banana']\n"
     ]
    }
   ],
   "source": [
    "# Question 5b of List Assignment\n",
    "# Add \"lemon\" as the second item in the fruits list\n",
    "fruits = [\"apple\",\"lichi\",\"guava\",\"cherry\",\"mango\",\"watermelon\",\"banana\"]\n",
    "fruits.insert(1,\"lemon\")\n",
    "print(fruits)"
   ]
  },
  {
   "cell_type": "code",
   "execution_count": 55,
   "metadata": {},
   "outputs": [
    {
     "name": "stdout",
     "output_type": "stream",
     "text": [
      "None\n",
      "['apple', 'lichi', 'guava', 'mango', 'watermelon', 'banana']\n"
     ]
    }
   ],
   "source": [
    "# Question 6 of List Assignment\n",
    "# Remove ‘cherry’ from the fruit list given above.\n",
    "fruits = [\"apple\",\"lichi\",\"guava\",\"cherry\",\"mango\",\"watermelon\",\"banana\"]\n",
    "print(fruits.remove(\"cherry\"))\n",
    "print(fruits)"
   ]
  },
  {
   "cell_type": "code",
   "execution_count": 1,
   "metadata": {},
   "outputs": [
    {
     "name": "stdout",
     "output_type": "stream",
     "text": [
      "[34, 21, 11, 7]\n"
     ]
    }
   ],
   "source": [
    "# Question 7 of List Assignment\n",
    "# Write the python program to let the user input a list of\n",
    "# numbers and print the list in descending order.\n",
    "myList = [34, 11, 21, 7];\n",
    "myList.sort(reverse=True);\n",
    "print(myList);"
   ]
  },
  {
   "cell_type": "code",
   "execution_count": 2,
   "metadata": {},
   "outputs": [
    {
     "name": "stdout",
     "output_type": "stream",
     "text": [
      "[1, 2, 3, 4, 5, 6]\n"
     ]
    }
   ],
   "source": [
    "# Question 8 of List Assignment\n",
    "# Write the python program to let the user input two lists and\n",
    "# combine both the lists.\n",
    "listone = [1,2,3]\n",
    "listtwo = [4,5,6]\n",
    "\n",
    "joinedlist = listone + listtwo\n",
    "print(joinedlist)"
   ]
  },
  {
   "cell_type": "code",
   "execution_count": 3,
   "metadata": {},
   "outputs": [
    {
     "name": "stdout",
     "output_type": "stream",
     "text": [
      "The shuffled list is : [45, 10, 9, 78, 23, 11]\n"
     ]
    }
   ],
   "source": [
    "# Question 9 of List Assignment\n",
    "# List = [10, 45, 78, 11, 9, 23]. Shuffle this list.\n",
    "import random\n",
    "\n",
    "list = {10,45,78,11,9,23}\n",
    "res = random.sample(list, len(list)) \n",
    "print (\"The shuffled list is : \" +  str(res))\n",
    " "
   ]
  },
  {
   "cell_type": "code",
   "execution_count": 5,
   "metadata": {},
   "outputs": [
    {
     "data": {
      "text/plain": [
       "'z'"
      ]
     },
     "execution_count": 5,
     "metadata": {},
     "output_type": "execute_result"
    }
   ],
   "source": [
    "# Question 10a of List Assignment\n",
    "# x = [10, [3.141, 20, [30, 'baz', 2.718]], 'foo']\n",
    "# What is the expression that returns the 'z' in 'baz'?\n",
    "x = [10, [3.141, 20, [30, 'baz', 2.718]], 'foo']\n",
    "x[1][2][1][2]\n",
    "\n"
   ]
  },
  {
   "cell_type": "code",
   "execution_count": 16,
   "metadata": {},
   "outputs": [
    {
     "data": {
      "text/plain": [
       "'baz'"
      ]
     },
     "execution_count": 16,
     "metadata": {},
     "output_type": "execute_result"
    }
   ],
   "source": [
    "# Question 10b of List Assignment\n",
    "# What expression returns the list ['baz', 2.718]?\n",
    "x = [10, [3.141, 20, [30, 'baz', 2.718]], 'foo']\n",
    "x[1][2][1]"
   ]
  },
  {
   "cell_type": "code",
   "execution_count": 7,
   "metadata": {},
   "outputs": [
    {
     "data": {
      "text/plain": [
       "20"
      ]
     },
     "execution_count": 7,
     "metadata": {},
     "output_type": "execute_result"
    }
   ],
   "source": [
    "# Question 11 of List Assignment\n",
    "# Extract element 20 from the above list.\n",
    "x = [10, [3.141, 20, [30, 'baz', 2.718]], 'foo']\n",
    "x[1][1]"
   ]
  },
  {
   "cell_type": "code",
   "execution_count": 19,
   "metadata": {},
   "outputs": [],
   "source": [
    "# Question 12 of List Assignment\n",
    "# Write a Python statement using slice assignment that will fill in\n",
    "# the missing values so that a equals [1, 2, 3, 4, 5, 6, 7, 8]\n",
    "\n",
    "a = [1, 2, 7, 8]\n",
    "\n"
   ]
  },
  {
   "cell_type": "code",
   "execution_count": null,
   "metadata": {},
   "outputs": [],
   "source": []
  }
 ],
 "metadata": {
  "kernelspec": {
   "display_name": "Python 3",
   "language": "python",
   "name": "python3"
  },
  "language_info": {
   "codemirror_mode": {
    "name": "ipython",
    "version": 3
   },
   "file_extension": ".py",
   "mimetype": "text/x-python",
   "name": "python",
   "nbconvert_exporter": "python",
   "pygments_lexer": "ipython3",
   "version": "3.7.6"
  }
 },
 "nbformat": 4,
 "nbformat_minor": 4
}
